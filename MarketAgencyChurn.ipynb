{
 "cells": [
  {
   "cell_type": "markdown",
   "source": [
    "### Import Libs"
   ],
   "metadata": {
    "collapsed": false
   },
   "id": "ccfedd42c02035f7"
  },
  {
   "cell_type": "code",
   "outputs": [],
   "source": [
    "import pandas as pd\n",
    "import pylab as pl\n",
    "import numpy as np\n",
    "import scipy.optimize as opt\n",
    "from sklearn import preprocessing\n",
    "import matplotlib.pyplot as plt"
   ],
   "metadata": {
    "collapsed": false,
    "ExecuteTime": {
     "end_time": "2024-03-07T18:31:26.133410Z",
     "start_time": "2024-03-07T18:31:26.130657Z"
    }
   },
   "id": "a23390d44ff92f4",
   "execution_count": 16
  },
  {
   "cell_type": "code",
   "outputs": [
    {
     "data": {
      "text/plain": "              Names   Age  Total_Purchase  Account_Manager  Years  Num_Sites  \\\n0  Cameron Williams  42.0        11066.80                0   7.22        8.0   \n1     Kevin Mueller  41.0        11916.22                0   6.50       11.0   \n2       Eric Lozano  38.0        12884.75                0   6.67       12.0   \n3     Phillip White  42.0         8010.76                0   6.71       10.0   \n4    Cynthia Norton  37.0         9191.58                0   5.56        9.0   \n\n          Onboard_date                                           Location  \\\n0  2013-08-30 07:00:40      10265 Elizabeth Mission Barkerburgh, AK 89518   \n1  2013-08-13 00:38:46  6157 Frank Gardens Suite 019 Carloshaven, RI 1...   \n2  2016-06-29 06:20:07             1331 Keith Court Alyssahaven, DE 90114   \n3  2014-04-22 12:43:12       13120 Daniel Mount Angelabury, WY 30645-4695   \n4  2016-01-19 15:31:15                765 Tricia Row Karenshire, MH 71730   \n\n                       Company  Churn  \n0                   Harvey LLC      1  \n1                   Wilson PLC      1  \n2  Miller, Johnson and Wallace      1  \n3                    Smith Inc      1  \n4                   Love-Jones      1  ",
      "text/html": "<div>\n<style scoped>\n    .dataframe tbody tr th:only-of-type {\n        vertical-align: middle;\n    }\n\n    .dataframe tbody tr th {\n        vertical-align: top;\n    }\n\n    .dataframe thead th {\n        text-align: right;\n    }\n</style>\n<table border=\"1\" class=\"dataframe\">\n  <thead>\n    <tr style=\"text-align: right;\">\n      <th></th>\n      <th>Names</th>\n      <th>Age</th>\n      <th>Total_Purchase</th>\n      <th>Account_Manager</th>\n      <th>Years</th>\n      <th>Num_Sites</th>\n      <th>Onboard_date</th>\n      <th>Location</th>\n      <th>Company</th>\n      <th>Churn</th>\n    </tr>\n  </thead>\n  <tbody>\n    <tr>\n      <th>0</th>\n      <td>Cameron Williams</td>\n      <td>42.0</td>\n      <td>11066.80</td>\n      <td>0</td>\n      <td>7.22</td>\n      <td>8.0</td>\n      <td>2013-08-30 07:00:40</td>\n      <td>10265 Elizabeth Mission Barkerburgh, AK 89518</td>\n      <td>Harvey LLC</td>\n      <td>1</td>\n    </tr>\n    <tr>\n      <th>1</th>\n      <td>Kevin Mueller</td>\n      <td>41.0</td>\n      <td>11916.22</td>\n      <td>0</td>\n      <td>6.50</td>\n      <td>11.0</td>\n      <td>2013-08-13 00:38:46</td>\n      <td>6157 Frank Gardens Suite 019 Carloshaven, RI 1...</td>\n      <td>Wilson PLC</td>\n      <td>1</td>\n    </tr>\n    <tr>\n      <th>2</th>\n      <td>Eric Lozano</td>\n      <td>38.0</td>\n      <td>12884.75</td>\n      <td>0</td>\n      <td>6.67</td>\n      <td>12.0</td>\n      <td>2016-06-29 06:20:07</td>\n      <td>1331 Keith Court Alyssahaven, DE 90114</td>\n      <td>Miller, Johnson and Wallace</td>\n      <td>1</td>\n    </tr>\n    <tr>\n      <th>3</th>\n      <td>Phillip White</td>\n      <td>42.0</td>\n      <td>8010.76</td>\n      <td>0</td>\n      <td>6.71</td>\n      <td>10.0</td>\n      <td>2014-04-22 12:43:12</td>\n      <td>13120 Daniel Mount Angelabury, WY 30645-4695</td>\n      <td>Smith Inc</td>\n      <td>1</td>\n    </tr>\n    <tr>\n      <th>4</th>\n      <td>Cynthia Norton</td>\n      <td>37.0</td>\n      <td>9191.58</td>\n      <td>0</td>\n      <td>5.56</td>\n      <td>9.0</td>\n      <td>2016-01-19 15:31:15</td>\n      <td>765 Tricia Row Karenshire, MH 71730</td>\n      <td>Love-Jones</td>\n      <td>1</td>\n    </tr>\n  </tbody>\n</table>\n</div>"
     },
     "execution_count": 17,
     "metadata": {},
     "output_type": "execute_result"
    }
   ],
   "source": [
    "churn_df = pd.read_csv(\"customer_churn.csv\")\n",
    "churn_df.head()"
   ],
   "metadata": {
    "collapsed": false,
    "ExecuteTime": {
     "end_time": "2024-03-07T18:31:26.432648Z",
     "start_time": "2024-03-07T18:31:26.423609Z"
    }
   },
   "id": "5b0e8be5ab045bf7",
   "execution_count": 17
  },
  {
   "cell_type": "code",
   "outputs": [
    {
     "data": {
      "text/plain": "(900, 10)"
     },
     "execution_count": 18,
     "metadata": {},
     "output_type": "execute_result"
    }
   ],
   "source": [
    "churn_df.shape"
   ],
   "metadata": {
    "collapsed": false,
    "ExecuteTime": {
     "end_time": "2024-03-07T18:31:27.249142Z",
     "start_time": "2024-03-07T18:31:27.245787Z"
    }
   },
   "id": "e3163272df42e1c3",
   "execution_count": 18
  },
  {
   "cell_type": "code",
   "outputs": [
    {
     "data": {
      "text/plain": "   Age  Total_Purchase  Account_Manager  Years  Num_Sites  Churn\n0   42           11066                0      7          8      1\n1   41           11916                0      6         11      1\n2   38           12884                0      6         12      1\n3   42            8010                0      6         10      1\n4   37            9191                0      5          9      1",
      "text/html": "<div>\n<style scoped>\n    .dataframe tbody tr th:only-of-type {\n        vertical-align: middle;\n    }\n\n    .dataframe tbody tr th {\n        vertical-align: top;\n    }\n\n    .dataframe thead th {\n        text-align: right;\n    }\n</style>\n<table border=\"1\" class=\"dataframe\">\n  <thead>\n    <tr style=\"text-align: right;\">\n      <th></th>\n      <th>Age</th>\n      <th>Total_Purchase</th>\n      <th>Account_Manager</th>\n      <th>Years</th>\n      <th>Num_Sites</th>\n      <th>Churn</th>\n    </tr>\n  </thead>\n  <tbody>\n    <tr>\n      <th>0</th>\n      <td>42</td>\n      <td>11066</td>\n      <td>0</td>\n      <td>7</td>\n      <td>8</td>\n      <td>1</td>\n    </tr>\n    <tr>\n      <th>1</th>\n      <td>41</td>\n      <td>11916</td>\n      <td>0</td>\n      <td>6</td>\n      <td>11</td>\n      <td>1</td>\n    </tr>\n    <tr>\n      <th>2</th>\n      <td>38</td>\n      <td>12884</td>\n      <td>0</td>\n      <td>6</td>\n      <td>12</td>\n      <td>1</td>\n    </tr>\n    <tr>\n      <th>3</th>\n      <td>42</td>\n      <td>8010</td>\n      <td>0</td>\n      <td>6</td>\n      <td>10</td>\n      <td>1</td>\n    </tr>\n    <tr>\n      <th>4</th>\n      <td>37</td>\n      <td>9191</td>\n      <td>0</td>\n      <td>5</td>\n      <td>9</td>\n      <td>1</td>\n    </tr>\n  </tbody>\n</table>\n</div>"
     },
     "execution_count": 19,
     "metadata": {},
     "output_type": "execute_result"
    }
   ],
   "source": [
    "churn_df = churn_df[['Age', 'Total_Purchase', 'Account_Manager', 'Years', 'Num_Sites', 'Churn']]\n",
    "churn_df['Age'] = churn_df['Age'].astype('int')\n",
    "churn_df['Total_Purchase'] = churn_df['Total_Purchase'].astype('int')\n",
    "churn_df['Years'] = churn_df['Years'].astype('int')\n",
    "churn_df['Num_Sites'] = churn_df['Num_Sites'].astype('int')\n",
    "churn_df['Churn'] = churn_df['Churn'].astype('int')\n",
    "churn_df.head()"
   ],
   "metadata": {
    "collapsed": false,
    "ExecuteTime": {
     "end_time": "2024-03-07T18:31:28.680903Z",
     "start_time": "2024-03-07T18:31:28.672243Z"
    }
   },
   "id": "f388c2d4a3ca8e4b",
   "execution_count": 19
  },
  {
   "cell_type": "code",
   "outputs": [
    {
     "data": {
      "text/plain": "(900, 6)"
     },
     "execution_count": 20,
     "metadata": {},
     "output_type": "execute_result"
    }
   ],
   "source": [
    "churn_df.shape"
   ],
   "metadata": {
    "collapsed": false,
    "ExecuteTime": {
     "end_time": "2024-03-07T18:31:29.330167Z",
     "start_time": "2024-03-07T18:31:29.326903Z"
    }
   },
   "id": "cf70c7d2432ba18e",
   "execution_count": 20
  },
  {
   "cell_type": "code",
   "outputs": [
    {
     "data": {
      "text/plain": "array([[   42, 11066,     0,     7,     8],\n       [   41, 11916,     0,     6,    11],\n       [   38, 12884,     0,     6,    12],\n       [   42,  8010,     0,     6,    10],\n       [   37,  9191,     0,     5,     9]])"
     },
     "execution_count": 22,
     "metadata": {},
     "output_type": "execute_result"
    }
   ],
   "source": [
    "X = np.asarray(churn_df[['Age', 'Total_Purchase', 'Account_Manager', 'Years', 'Num_Sites',]])\n",
    "X[0:5]"
   ],
   "metadata": {
    "collapsed": false,
    "ExecuteTime": {
     "end_time": "2024-03-07T18:31:50.834385Z",
     "start_time": "2024-03-07T18:31:50.830995Z"
    }
   },
   "id": "2cfb6275871ff65f",
   "execution_count": 22
  },
  {
   "cell_type": "code",
   "outputs": [
    {
     "data": {
      "text/plain": "array([1, 1, 1, 1, 1])"
     },
     "execution_count": 23,
     "metadata": {},
     "output_type": "execute_result"
    }
   ],
   "source": [
    "y = np.asarray(churn_df['Churn'])\n",
    "y [0:5]"
   ],
   "metadata": {
    "collapsed": false,
    "ExecuteTime": {
     "end_time": "2024-03-07T18:32:03.117955Z",
     "start_time": "2024-03-07T18:32:03.114972Z"
    }
   },
   "id": "e2718867926e9cc5",
   "execution_count": 23
  },
  {
   "cell_type": "code",
   "outputs": [
    {
     "data": {
      "text/plain": "array([[ 0.0299361 ,  0.41693312, -0.96290958,  1.72185054, -0.33323478],\n       [-0.13335172,  0.77002494, -0.96290958,  0.95354836,  1.36758544],\n       [-0.6232152 ,  1.1721342 , -0.96290958,  0.95354836,  1.93452551],\n       [ 0.0299361 , -0.8525358 , -0.96290958,  0.95354836,  0.80064537],\n       [-0.78650303, -0.36194588, -0.96290958,  0.18524619,  0.2337053 ]])"
     },
     "execution_count": 24,
     "metadata": {},
     "output_type": "execute_result"
    }
   ],
   "source": [
    "from sklearn import preprocessing\n",
    "X = preprocessing.StandardScaler().fit(X).transform(X)\n",
    "X[0:5]"
   ],
   "metadata": {
    "collapsed": false,
    "ExecuteTime": {
     "end_time": "2024-03-07T18:32:10.643782Z",
     "start_time": "2024-03-07T18:32:10.639080Z"
    }
   },
   "id": "9daac8a8b717114b",
   "execution_count": 24
  },
  {
   "cell_type": "code",
   "outputs": [
    {
     "name": "stdout",
     "output_type": "stream",
     "text": [
      "Train set: (720, 5) (720,)\n",
      "Test set: (180, 5) (180,)\n"
     ]
    }
   ],
   "source": [
    "from sklearn.model_selection import train_test_split\n",
    "X_train, X_test, y_train, y_test = train_test_split( X, y, test_size=0.2, random_state=4)\n",
    "print ('Train set:', X_train.shape,  y_train.shape)\n",
    "print ('Test set:', X_test.shape,  y_test.shape)"
   ],
   "metadata": {
    "collapsed": false,
    "ExecuteTime": {
     "end_time": "2024-03-07T18:32:22.888248Z",
     "start_time": "2024-03-07T18:32:22.852602Z"
    }
   },
   "id": "1d2463baf006cab4",
   "execution_count": 25
  },
  {
   "cell_type": "code",
   "outputs": [
    {
     "data": {
      "text/plain": "LogisticRegression(C=0.01, solver='liblinear')",
      "text/html": "<style>#sk-container-id-1 {\n  /* Definition of color scheme common for light and dark mode */\n  --sklearn-color-text: black;\n  --sklearn-color-line: gray;\n  /* Definition of color scheme for unfitted estimators */\n  --sklearn-color-unfitted-level-0: #fff5e6;\n  --sklearn-color-unfitted-level-1: #f6e4d2;\n  --sklearn-color-unfitted-level-2: #ffe0b3;\n  --sklearn-color-unfitted-level-3: chocolate;\n  /* Definition of color scheme for fitted estimators */\n  --sklearn-color-fitted-level-0: #f0f8ff;\n  --sklearn-color-fitted-level-1: #d4ebff;\n  --sklearn-color-fitted-level-2: #b3dbfd;\n  --sklearn-color-fitted-level-3: cornflowerblue;\n\n  /* Specific color for light theme */\n  --sklearn-color-text-on-default-background: var(--sg-text-color, var(--theme-code-foreground, var(--jp-content-font-color1, black)));\n  --sklearn-color-background: var(--sg-background-color, var(--theme-background, var(--jp-layout-color0, white)));\n  --sklearn-color-border-box: var(--sg-text-color, var(--theme-code-foreground, var(--jp-content-font-color1, black)));\n  --sklearn-color-icon: #696969;\n\n  @media (prefers-color-scheme: dark) {\n    /* Redefinition of color scheme for dark theme */\n    --sklearn-color-text-on-default-background: var(--sg-text-color, var(--theme-code-foreground, var(--jp-content-font-color1, white)));\n    --sklearn-color-background: var(--sg-background-color, var(--theme-background, var(--jp-layout-color0, #111)));\n    --sklearn-color-border-box: var(--sg-text-color, var(--theme-code-foreground, var(--jp-content-font-color1, white)));\n    --sklearn-color-icon: #878787;\n  }\n}\n\n#sk-container-id-1 {\n  color: var(--sklearn-color-text);\n}\n\n#sk-container-id-1 pre {\n  padding: 0;\n}\n\n#sk-container-id-1 input.sk-hidden--visually {\n  border: 0;\n  clip: rect(1px 1px 1px 1px);\n  clip: rect(1px, 1px, 1px, 1px);\n  height: 1px;\n  margin: -1px;\n  overflow: hidden;\n  padding: 0;\n  position: absolute;\n  width: 1px;\n}\n\n#sk-container-id-1 div.sk-dashed-wrapped {\n  border: 1px dashed var(--sklearn-color-line);\n  margin: 0 0.4em 0.5em 0.4em;\n  box-sizing: border-box;\n  padding-bottom: 0.4em;\n  background-color: var(--sklearn-color-background);\n}\n\n#sk-container-id-1 div.sk-container {\n  /* jupyter's `normalize.less` sets `[hidden] { display: none; }`\n     but bootstrap.min.css set `[hidden] { display: none !important; }`\n     so we also need the `!important` here to be able to override the\n     default hidden behavior on the sphinx rendered scikit-learn.org.\n     See: https://github.com/scikit-learn/scikit-learn/issues/21755 */\n  display: inline-block !important;\n  position: relative;\n}\n\n#sk-container-id-1 div.sk-text-repr-fallback {\n  display: none;\n}\n\ndiv.sk-parallel-item,\ndiv.sk-serial,\ndiv.sk-item {\n  /* draw centered vertical line to link estimators */\n  background-image: linear-gradient(var(--sklearn-color-text-on-default-background), var(--sklearn-color-text-on-default-background));\n  background-size: 2px 100%;\n  background-repeat: no-repeat;\n  background-position: center center;\n}\n\n/* Parallel-specific style estimator block */\n\n#sk-container-id-1 div.sk-parallel-item::after {\n  content: \"\";\n  width: 100%;\n  border-bottom: 2px solid var(--sklearn-color-text-on-default-background);\n  flex-grow: 1;\n}\n\n#sk-container-id-1 div.sk-parallel {\n  display: flex;\n  align-items: stretch;\n  justify-content: center;\n  background-color: var(--sklearn-color-background);\n  position: relative;\n}\n\n#sk-container-id-1 div.sk-parallel-item {\n  display: flex;\n  flex-direction: column;\n}\n\n#sk-container-id-1 div.sk-parallel-item:first-child::after {\n  align-self: flex-end;\n  width: 50%;\n}\n\n#sk-container-id-1 div.sk-parallel-item:last-child::after {\n  align-self: flex-start;\n  width: 50%;\n}\n\n#sk-container-id-1 div.sk-parallel-item:only-child::after {\n  width: 0;\n}\n\n/* Serial-specific style estimator block */\n\n#sk-container-id-1 div.sk-serial {\n  display: flex;\n  flex-direction: column;\n  align-items: center;\n  background-color: var(--sklearn-color-background);\n  padding-right: 1em;\n  padding-left: 1em;\n}\n\n\n/* Toggleable style: style used for estimator/Pipeline/ColumnTransformer box that is\nclickable and can be expanded/collapsed.\n- Pipeline and ColumnTransformer use this feature and define the default style\n- Estimators will overwrite some part of the style using the `sk-estimator` class\n*/\n\n/* Pipeline and ColumnTransformer style (default) */\n\n#sk-container-id-1 div.sk-toggleable {\n  /* Default theme specific background. It is overwritten whether we have a\n  specific estimator or a Pipeline/ColumnTransformer */\n  background-color: var(--sklearn-color-background);\n}\n\n/* Toggleable label */\n#sk-container-id-1 label.sk-toggleable__label {\n  cursor: pointer;\n  display: block;\n  width: 100%;\n  margin-bottom: 0;\n  padding: 0.5em;\n  box-sizing: border-box;\n  text-align: center;\n}\n\n#sk-container-id-1 label.sk-toggleable__label-arrow:before {\n  /* Arrow on the left of the label */\n  content: \"▸\";\n  float: left;\n  margin-right: 0.25em;\n  color: var(--sklearn-color-icon);\n}\n\n#sk-container-id-1 label.sk-toggleable__label-arrow:hover:before {\n  color: var(--sklearn-color-text);\n}\n\n/* Toggleable content - dropdown */\n\n#sk-container-id-1 div.sk-toggleable__content {\n  max-height: 0;\n  max-width: 0;\n  overflow: hidden;\n  text-align: left;\n  /* unfitted */\n  background-color: var(--sklearn-color-unfitted-level-0);\n}\n\n#sk-container-id-1 div.sk-toggleable__content.fitted {\n  /* fitted */\n  background-color: var(--sklearn-color-fitted-level-0);\n}\n\n#sk-container-id-1 div.sk-toggleable__content pre {\n  margin: 0.2em;\n  border-radius: 0.25em;\n  color: var(--sklearn-color-text);\n  /* unfitted */\n  background-color: var(--sklearn-color-unfitted-level-0);\n}\n\n#sk-container-id-1 div.sk-toggleable__content.fitted pre {\n  /* unfitted */\n  background-color: var(--sklearn-color-fitted-level-0);\n}\n\n#sk-container-id-1 input.sk-toggleable__control:checked~div.sk-toggleable__content {\n  /* Expand drop-down */\n  max-height: 200px;\n  max-width: 100%;\n  overflow: auto;\n}\n\n#sk-container-id-1 input.sk-toggleable__control:checked~label.sk-toggleable__label-arrow:before {\n  content: \"▾\";\n}\n\n/* Pipeline/ColumnTransformer-specific style */\n\n#sk-container-id-1 div.sk-label input.sk-toggleable__control:checked~label.sk-toggleable__label {\n  color: var(--sklearn-color-text);\n  background-color: var(--sklearn-color-unfitted-level-2);\n}\n\n#sk-container-id-1 div.sk-label.fitted input.sk-toggleable__control:checked~label.sk-toggleable__label {\n  background-color: var(--sklearn-color-fitted-level-2);\n}\n\n/* Estimator-specific style */\n\n/* Colorize estimator box */\n#sk-container-id-1 div.sk-estimator input.sk-toggleable__control:checked~label.sk-toggleable__label {\n  /* unfitted */\n  background-color: var(--sklearn-color-unfitted-level-2);\n}\n\n#sk-container-id-1 div.sk-estimator.fitted input.sk-toggleable__control:checked~label.sk-toggleable__label {\n  /* fitted */\n  background-color: var(--sklearn-color-fitted-level-2);\n}\n\n#sk-container-id-1 div.sk-label label.sk-toggleable__label,\n#sk-container-id-1 div.sk-label label {\n  /* The background is the default theme color */\n  color: var(--sklearn-color-text-on-default-background);\n}\n\n/* On hover, darken the color of the background */\n#sk-container-id-1 div.sk-label:hover label.sk-toggleable__label {\n  color: var(--sklearn-color-text);\n  background-color: var(--sklearn-color-unfitted-level-2);\n}\n\n/* Label box, darken color on hover, fitted */\n#sk-container-id-1 div.sk-label.fitted:hover label.sk-toggleable__label.fitted {\n  color: var(--sklearn-color-text);\n  background-color: var(--sklearn-color-fitted-level-2);\n}\n\n/* Estimator label */\n\n#sk-container-id-1 div.sk-label label {\n  font-family: monospace;\n  font-weight: bold;\n  display: inline-block;\n  line-height: 1.2em;\n}\n\n#sk-container-id-1 div.sk-label-container {\n  text-align: center;\n}\n\n/* Estimator-specific */\n#sk-container-id-1 div.sk-estimator {\n  font-family: monospace;\n  border: 1px dotted var(--sklearn-color-border-box);\n  border-radius: 0.25em;\n  box-sizing: border-box;\n  margin-bottom: 0.5em;\n  /* unfitted */\n  background-color: var(--sklearn-color-unfitted-level-0);\n}\n\n#sk-container-id-1 div.sk-estimator.fitted {\n  /* fitted */\n  background-color: var(--sklearn-color-fitted-level-0);\n}\n\n/* on hover */\n#sk-container-id-1 div.sk-estimator:hover {\n  /* unfitted */\n  background-color: var(--sklearn-color-unfitted-level-2);\n}\n\n#sk-container-id-1 div.sk-estimator.fitted:hover {\n  /* fitted */\n  background-color: var(--sklearn-color-fitted-level-2);\n}\n\n/* Specification for estimator info (e.g. \"i\" and \"?\") */\n\n/* Common style for \"i\" and \"?\" */\n\n.sk-estimator-doc-link,\na:link.sk-estimator-doc-link,\na:visited.sk-estimator-doc-link {\n  float: right;\n  font-size: smaller;\n  line-height: 1em;\n  font-family: monospace;\n  background-color: var(--sklearn-color-background);\n  border-radius: 1em;\n  height: 1em;\n  width: 1em;\n  text-decoration: none !important;\n  margin-left: 1ex;\n  /* unfitted */\n  border: var(--sklearn-color-unfitted-level-1) 1pt solid;\n  color: var(--sklearn-color-unfitted-level-1);\n}\n\n.sk-estimator-doc-link.fitted,\na:link.sk-estimator-doc-link.fitted,\na:visited.sk-estimator-doc-link.fitted {\n  /* fitted */\n  border: var(--sklearn-color-fitted-level-1) 1pt solid;\n  color: var(--sklearn-color-fitted-level-1);\n}\n\n/* On hover */\ndiv.sk-estimator:hover .sk-estimator-doc-link:hover,\n.sk-estimator-doc-link:hover,\ndiv.sk-label-container:hover .sk-estimator-doc-link:hover,\n.sk-estimator-doc-link:hover {\n  /* unfitted */\n  background-color: var(--sklearn-color-unfitted-level-3);\n  color: var(--sklearn-color-background);\n  text-decoration: none;\n}\n\ndiv.sk-estimator.fitted:hover .sk-estimator-doc-link.fitted:hover,\n.sk-estimator-doc-link.fitted:hover,\ndiv.sk-label-container:hover .sk-estimator-doc-link.fitted:hover,\n.sk-estimator-doc-link.fitted:hover {\n  /* fitted */\n  background-color: var(--sklearn-color-fitted-level-3);\n  color: var(--sklearn-color-background);\n  text-decoration: none;\n}\n\n/* Span, style for the box shown on hovering the info icon */\n.sk-estimator-doc-link span {\n  display: none;\n  z-index: 9999;\n  position: relative;\n  font-weight: normal;\n  right: .2ex;\n  padding: .5ex;\n  margin: .5ex;\n  width: min-content;\n  min-width: 20ex;\n  max-width: 50ex;\n  color: var(--sklearn-color-text);\n  box-shadow: 2pt 2pt 4pt #999;\n  /* unfitted */\n  background: var(--sklearn-color-unfitted-level-0);\n  border: .5pt solid var(--sklearn-color-unfitted-level-3);\n}\n\n.sk-estimator-doc-link.fitted span {\n  /* fitted */\n  background: var(--sklearn-color-fitted-level-0);\n  border: var(--sklearn-color-fitted-level-3);\n}\n\n.sk-estimator-doc-link:hover span {\n  display: block;\n}\n\n/* \"?\"-specific style due to the `<a>` HTML tag */\n\n#sk-container-id-1 a.estimator_doc_link {\n  float: right;\n  font-size: 1rem;\n  line-height: 1em;\n  font-family: monospace;\n  background-color: var(--sklearn-color-background);\n  border-radius: 1rem;\n  height: 1rem;\n  width: 1rem;\n  text-decoration: none;\n  /* unfitted */\n  color: var(--sklearn-color-unfitted-level-1);\n  border: var(--sklearn-color-unfitted-level-1) 1pt solid;\n}\n\n#sk-container-id-1 a.estimator_doc_link.fitted {\n  /* fitted */\n  border: var(--sklearn-color-fitted-level-1) 1pt solid;\n  color: var(--sklearn-color-fitted-level-1);\n}\n\n/* On hover */\n#sk-container-id-1 a.estimator_doc_link:hover {\n  /* unfitted */\n  background-color: var(--sklearn-color-unfitted-level-3);\n  color: var(--sklearn-color-background);\n  text-decoration: none;\n}\n\n#sk-container-id-1 a.estimator_doc_link.fitted:hover {\n  /* fitted */\n  background-color: var(--sklearn-color-fitted-level-3);\n}\n</style><div id=\"sk-container-id-1\" class=\"sk-top-container\"><div class=\"sk-text-repr-fallback\"><pre>LogisticRegression(C=0.01, solver=&#x27;liblinear&#x27;)</pre><b>In a Jupyter environment, please rerun this cell to show the HTML representation or trust the notebook. <br />On GitHub, the HTML representation is unable to render, please try loading this page with nbviewer.org.</b></div><div class=\"sk-container\" hidden><div class=\"sk-item\"><div class=\"sk-estimator fitted sk-toggleable\"><input class=\"sk-toggleable__control sk-hidden--visually\" id=\"sk-estimator-id-1\" type=\"checkbox\" checked><label for=\"sk-estimator-id-1\" class=\"sk-toggleable__label fitted sk-toggleable__label-arrow fitted\">&nbsp;&nbsp;LogisticRegression<a class=\"sk-estimator-doc-link fitted\" rel=\"noreferrer\" target=\"_blank\" href=\"https://scikit-learn.org/1.4/modules/generated/sklearn.linear_model.LogisticRegression.html\">?<span>Documentation for LogisticRegression</span></a><span class=\"sk-estimator-doc-link fitted\">i<span>Fitted</span></span></label><div class=\"sk-toggleable__content fitted\"><pre>LogisticRegression(C=0.01, solver=&#x27;liblinear&#x27;)</pre></div> </div></div></div></div>"
     },
     "execution_count": 26,
     "metadata": {},
     "output_type": "execute_result"
    }
   ],
   "source": [
    "from sklearn.linear_model import LogisticRegression\n",
    "from sklearn.metrics import confusion_matrix\n",
    "LR = LogisticRegression(C=0.01, solver='liblinear').fit(X_train,y_train)\n",
    "LR"
   ],
   "metadata": {
    "collapsed": false,
    "ExecuteTime": {
     "end_time": "2024-03-07T18:32:31.607008Z",
     "start_time": "2024-03-07T18:32:31.570038Z"
    }
   },
   "id": "92452a7436d4791e",
   "execution_count": 26
  },
  {
   "cell_type": "code",
   "outputs": [
    {
     "data": {
      "text/plain": "array([0, 1, 0, 0, 0, 0, 0, 0, 0, 0, 0, 0, 1, 0, 0, 0, 0, 1, 0, 0, 0, 0,\n       0, 0, 0, 0, 0, 0, 0, 0, 0, 0, 0, 0, 1, 0, 0, 0, 0, 0, 0, 0, 0, 0,\n       0, 0, 0, 0, 0, 0, 0, 0, 1, 0, 0, 1, 0, 0, 0, 0, 0, 0, 0, 0, 0, 0,\n       0, 0, 0, 0, 0, 0, 0, 0, 0, 0, 0, 0, 0, 0, 0, 1, 0, 0, 0, 0, 0, 1,\n       0, 0, 0, 0, 0, 0, 0, 0, 0, 0, 0, 0, 0, 0, 0, 0, 0, 0, 0, 0, 0, 0,\n       0, 0, 0, 0, 0, 0, 0, 1, 0, 0, 0, 0, 0, 0, 0, 1, 0, 0, 0, 1, 0, 0,\n       0, 0, 1, 0, 0, 1, 0, 0, 0, 0, 0, 0, 0, 1, 0, 0, 0, 0, 0, 0, 0, 0,\n       0, 1, 0, 0, 0, 0, 1, 0, 1, 0, 0, 0, 0, 0, 0, 1, 0, 0, 1, 1, 0, 0,\n       0, 0, 0, 0])"
     },
     "execution_count": 27,
     "metadata": {},
     "output_type": "execute_result"
    }
   ],
   "source": [
    "yhat = LR.predict(X_test)\n",
    "yhat"
   ],
   "metadata": {
    "collapsed": false,
    "ExecuteTime": {
     "end_time": "2024-03-07T18:32:38.833735Z",
     "start_time": "2024-03-07T18:32:38.830217Z"
    }
   },
   "id": "fbbb61c4045aff",
   "execution_count": 27
  },
  {
   "cell_type": "code",
   "outputs": [
    {
     "data": {
      "text/plain": "array([[0.56489705, 0.43510295],\n       [0.49773108, 0.50226892],\n       [0.79359309, 0.20640691],\n       [0.82419354, 0.17580646],\n       [0.74988834, 0.25011166],\n       [0.75829175, 0.24170825],\n       [0.78027254, 0.21972746],\n       [0.83898965, 0.16101035],\n       [0.70067455, 0.29932545],\n       [0.85091734, 0.14908266],\n       [0.70241269, 0.29758731],\n       [0.84940437, 0.15059563],\n       [0.42607739, 0.57392261],\n       [0.79754718, 0.20245282],\n       [0.56414748, 0.43585252],\n       [0.87461234, 0.12538766],\n       [0.79068441, 0.20931559],\n       [0.46368309, 0.53631691],\n       [0.68071612, 0.31928388],\n       [0.76517926, 0.23482074],\n       [0.54565591, 0.45434409],\n       [0.81881875, 0.18118125],\n       [0.8978245 , 0.1021755 ],\n       [0.61654054, 0.38345946],\n       [0.64758125, 0.35241875],\n       [0.81199553, 0.18800447],\n       [0.82702934, 0.17297066],\n       [0.8156636 , 0.1843364 ],\n       [0.79926894, 0.20073106],\n       [0.78434512, 0.21565488],\n       [0.51620027, 0.48379973],\n       [0.64916379, 0.35083621],\n       [0.63849485, 0.36150515],\n       [0.68623866, 0.31376134],\n       [0.48460385, 0.51539615],\n       [0.83515625, 0.16484375],\n       [0.79785938, 0.20214062],\n       [0.70658024, 0.29341976],\n       [0.84014621, 0.15985379],\n       [0.83784355, 0.16215645],\n       [0.56052812, 0.43947188],\n       [0.84303334, 0.15696666],\n       [0.77601793, 0.22398207],\n       [0.9073141 , 0.0926859 ],\n       [0.78755836, 0.21244164],\n       [0.66846638, 0.33153362],\n       [0.78052658, 0.21947342],\n       [0.73904918, 0.26095082],\n       [0.52271289, 0.47728711],\n       [0.81599327, 0.18400673],\n       [0.53277552, 0.46722448],\n       [0.73598047, 0.26401953],\n       [0.47774373, 0.52225627],\n       [0.87410339, 0.12589661],\n       [0.88889071, 0.11110929],\n       [0.36596202, 0.63403798],\n       [0.73723135, 0.26276865],\n       [0.78489857, 0.21510143],\n       [0.61677219, 0.38322781],\n       [0.50707194, 0.49292806],\n       [0.54848418, 0.45151582],\n       [0.52623924, 0.47376076],\n       [0.76137317, 0.23862683],\n       [0.81216228, 0.18783772],\n       [0.79489509, 0.20510491],\n       [0.66171895, 0.33828105],\n       [0.50987007, 0.49012993],\n       [0.75179036, 0.24820964],\n       [0.81729059, 0.18270941],\n       [0.67917132, 0.32082868],\n       [0.81588193, 0.18411807],\n       [0.68112782, 0.31887218],\n       [0.85469807, 0.14530193],\n       [0.56697526, 0.43302474],\n       [0.8569804 , 0.1430196 ],\n       [0.77472064, 0.22527936],\n       [0.74193432, 0.25806568],\n       [0.83832111, 0.16167889],\n       [0.72072264, 0.27927736],\n       [0.64264174, 0.35735826],\n       [0.85204357, 0.14795643],\n       [0.49493586, 0.50506414],\n       [0.59078774, 0.40921226],\n       [0.51233659, 0.48766341],\n       [0.80299593, 0.19700407],\n       [0.75819418, 0.24180582],\n       [0.71682705, 0.28317295],\n       [0.44342048, 0.55657952],\n       [0.82041288, 0.17958712],\n       [0.70217583, 0.29782417],\n       [0.88923094, 0.11076906],\n       [0.65453995, 0.34546005],\n       [0.81979718, 0.18020282],\n       [0.6209124 , 0.3790876 ],\n       [0.71335951, 0.28664049],\n       [0.73454381, 0.26545619],\n       [0.72624272, 0.27375728],\n       [0.81462322, 0.18537678],\n       [0.72333139, 0.27666861],\n       [0.79179705, 0.20820295],\n       [0.69184452, 0.30815548],\n       [0.80029794, 0.19970206],\n       [0.63368811, 0.36631189],\n       [0.58886718, 0.41113282],\n       [0.51480238, 0.48519762],\n       [0.8466881 , 0.1533119 ],\n       [0.52940992, 0.47059008],\n       [0.55198332, 0.44801668],\n       [0.71670359, 0.28329641],\n       [0.75726295, 0.24273705],\n       [0.69036595, 0.30963405],\n       [0.8683453 , 0.1316547 ],\n       [0.54425275, 0.45574725],\n       [0.84353961, 0.15646039],\n       [0.82080144, 0.17919856],\n       [0.72958163, 0.27041837],\n       [0.85511926, 0.14488074],\n       [0.46509778, 0.53490222],\n       [0.78567731, 0.21432269],\n       [0.87348383, 0.12651617],\n       [0.6466841 , 0.3533159 ],\n       [0.78375255, 0.21624745],\n       [0.64774649, 0.35225351],\n       [0.69141995, 0.30858005],\n       [0.68451018, 0.31548982],\n       [0.46945561, 0.53054439],\n       [0.63273865, 0.36726135],\n       [0.73378775, 0.26621225],\n       [0.53998911, 0.46001089],\n       [0.29187779, 0.70812221],\n       [0.50118967, 0.49881033],\n       [0.73459127, 0.26540873],\n       [0.81284409, 0.18715591],\n       [0.67092901, 0.32907099],\n       [0.48018728, 0.51981272],\n       [0.68275256, 0.31724744],\n       [0.81178496, 0.18821504],\n       [0.47047473, 0.52952527],\n       [0.67335384, 0.32664616],\n       [0.75078784, 0.24921216],\n       [0.56900235, 0.43099765],\n       [0.72442682, 0.27557318],\n       [0.60713953, 0.39286047],\n       [0.77405453, 0.22594547],\n       [0.70723511, 0.29276489],\n       [0.49143901, 0.50856099],\n       [0.81457539, 0.18542461],\n       [0.78719566, 0.21280434],\n       [0.55357716, 0.44642284],\n       [0.82310748, 0.17689252],\n       [0.7303235 , 0.2696765 ],\n       [0.76261345, 0.23738655],\n       [0.74662519, 0.25337481],\n       [0.79009696, 0.20990304],\n       [0.90791714, 0.09208286],\n       [0.37170073, 0.62829927],\n       [0.73607606, 0.26392394],\n       [0.76723437, 0.23276563],\n       [0.7886406 , 0.2113594 ],\n       [0.83901286, 0.16098714],\n       [0.49139526, 0.50860474],\n       [0.81970167, 0.18029833],\n       [0.44755296, 0.55244704],\n       [0.76651985, 0.23348015],\n       [0.53117434, 0.46882566],\n       [0.85333064, 0.14666936],\n       [0.61367124, 0.38632876],\n       [0.65643362, 0.34356638],\n       [0.80097187, 0.19902813],\n       [0.34014941, 0.65985059],\n       [0.66910514, 0.33089486],\n       [0.57871546, 0.42128454],\n       [0.43077302, 0.56922698],\n       [0.47158123, 0.52841877],\n       [0.64551504, 0.35448496],\n       [0.82341327, 0.17658673],\n       [0.61185176, 0.38814824],\n       [0.57472045, 0.42527955],\n       [0.83234527, 0.16765473],\n       [0.73668462, 0.26331538]])"
     },
     "execution_count": 28,
     "metadata": {},
     "output_type": "execute_result"
    }
   ],
   "source": [
    "yhat_prob = LR.predict_proba(X_test)\n",
    "yhat_prob"
   ],
   "metadata": {
    "collapsed": false,
    "ExecuteTime": {
     "end_time": "2024-03-07T18:32:44.888432Z",
     "start_time": "2024-03-07T18:32:44.883955Z"
    }
   },
   "id": "5d2c25cc13ed1655",
   "execution_count": 28
  },
  {
   "cell_type": "code",
   "outputs": [
    {
     "data": {
      "text/plain": "0.8674698795180723"
     },
     "execution_count": 29,
     "metadata": {},
     "output_type": "execute_result"
    }
   ],
   "source": [
    "from sklearn.metrics import jaccard_score\n",
    "jaccard_score(y_test, yhat,pos_label=0)"
   ],
   "metadata": {
    "collapsed": false,
    "ExecuteTime": {
     "end_time": "2024-03-07T18:32:51.121412Z",
     "start_time": "2024-03-07T18:32:51.116659Z"
    }
   },
   "id": "c3167921aef9ba5f",
   "execution_count": 29
  },
  {
   "cell_type": "code",
   "outputs": [
    {
     "name": "stdout",
     "output_type": "stream",
     "text": [
      "[[ 14  16]\n",
      " [  6 144]]\n"
     ]
    }
   ],
   "source": [
    "from sklearn.metrics import classification_report, confusion_matrix\n",
    "import itertools\n",
    "def plot_confusion_matrix(cm, classes,\n",
    "                          normalize=False,\n",
    "                          title='Confusion matrix',\n",
    "                          cmap=plt.cm.Blues):\n",
    "    \"\"\"\n",
    "    This function prints and plots the confusion matrix.\n",
    "    Normalization can be applied by setting `normalize=True`.\n",
    "    \"\"\"\n",
    "    if normalize:\n",
    "        cm = cm.astype('float') / cm.sum(axis=1)[:, np.newaxis]\n",
    "        print(\"Normalized confusion matrix\")\n",
    "    else:\n",
    "        print('Confusion matrix, without normalization')\n",
    "\n",
    "    print(cm)\n",
    "\n",
    "    plt.imshow(cm, interpolation='nearest', cmap=cmap)\n",
    "    plt.title(title)\n",
    "    plt.colorbar()\n",
    "    tick_marks = np.arange(len(classes))\n",
    "    plt.xticks(tick_marks, classes, rotation=45)\n",
    "    plt.yticks(tick_marks, classes)\n",
    "\n",
    "    fmt = '.2f' if normalize else 'd'\n",
    "    thresh = cm.max() / 2.\n",
    "    for i, j in itertools.product(range(cm.shape[0]), range(cm.shape[1])):\n",
    "        plt.text(j, i, format(cm[i, j], fmt),\n",
    "                 horizontalalignment=\"center\",\n",
    "                 color=\"white\" if cm[i, j] > thresh else \"black\")\n",
    "\n",
    "    plt.tight_layout()\n",
    "    plt.ylabel('True label')\n",
    "    plt.xlabel('Predicted label')\n",
    "print(confusion_matrix(y_test, yhat, labels=[1,0]))"
   ],
   "metadata": {
    "collapsed": false,
    "ExecuteTime": {
     "end_time": "2024-03-07T18:33:36.881840Z",
     "start_time": "2024-03-07T18:33:36.876457Z"
    }
   },
   "id": "82a2b91674ba9879",
   "execution_count": 30
  },
  {
   "cell_type": "code",
   "outputs": [
    {
     "name": "stdout",
     "output_type": "stream",
     "text": [
      "Confusion matrix, without normalization\n",
      "[[ 14  16]\n",
      " [  6 144]]\n"
     ]
    },
    {
     "data": {
      "text/plain": "<Figure size 640x480 with 2 Axes>",
      "image/png": "[encoded data removed]"
     },
     "metadata": {},
     "output_type": "display_data"
    }
   ],
   "source": [
    "# Compute confusion matrix\n",
    "cnf_matrix = confusion_matrix(y_test, yhat, labels=[1,0])\n",
    "np.set_printoptions(precision=2)\n",
    "\n",
    "\n",
    "# Plot non-normalized confusion matrix\n",
    "plt.figure()\n",
    "plot_confusion_matrix(cnf_matrix, classes=['churn=1','churn=0'],normalize= False,  title='Confusion matrix')"
   ],
   "metadata": {
    "collapsed": false,
    "ExecuteTime": {
     "end_time": "2024-03-07T18:33:42.005701Z",
     "start_time": "2024-03-07T18:33:41.882872Z"
    }
   },
   "id": "90cd399c4b7f36c4",
   "execution_count": 31
  },
  {
   "cell_type": "code",
   "outputs": [
    {
     "name": "stdout",
     "output_type": "stream",
     "text": [
      "              precision    recall  f1-score   support\n",
      "\n",
      "           0       0.90      0.96      0.93       150\n",
      "           1       0.70      0.47      0.56        30\n",
      "\n",
      "    accuracy                           0.88       180\n",
      "   macro avg       0.80      0.71      0.74       180\n",
      "weighted avg       0.87      0.88      0.87       180\n"
     ]
    }
   ],
   "source": [
    "print (classification_report(y_test, yhat))\n"
   ],
   "metadata": {
    "collapsed": false,
    "ExecuteTime": {
     "end_time": "2024-03-07T18:33:50.261598Z",
     "start_time": "2024-03-07T18:33:50.253561Z"
    }
   },
   "id": "d205fa338cf2947a",
   "execution_count": 32
  },
  {
   "cell_type": "code",
   "outputs": [
    {
     "data": {
      "text/plain": "0.3791473217450155"
     },
     "execution_count": 33,
     "metadata": {},
     "output_type": "execute_result"
    }
   ],
   "source": [
    "from sklearn.metrics import log_loss\n",
    "log_loss(y_test, yhat_prob)"
   ],
   "metadata": {
    "collapsed": false,
    "ExecuteTime": {
     "end_time": "2024-03-07T18:33:58.953892Z",
     "start_time": "2024-03-07T18:33:58.942146Z"
    }
   },
   "id": "468fb19e3a076455",
   "execution_count": 33
  },
  {
   "cell_type": "code",
   "outputs": [],
   "source": [],
   "metadata": {
    "collapsed": false
   },
   "id": "2517181e8e86349c"
  }
 ],
 "metadata": {
  "kernelspec": {
   "display_name": "Python 3",
   "language": "python",
   "name": "python3"
  },
  "language_info": {
   "codemirror_mode": {
    "name": "ipython",
    "version": 2
   },
   "file_extension": ".py",
   "mimetype": "text/x-python",
   "name": "python",
   "nbconvert_exporter": "python",
   "pygments_lexer": "ipython2",
   "version": "2.7.6"
  }
 },
 "nbformat": 4,
 "nbformat_minor": 5
}
